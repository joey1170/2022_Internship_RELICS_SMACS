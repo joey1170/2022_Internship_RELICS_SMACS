{
 "cells": [
  {
   "cell_type": "markdown",
   "id": "bc648111",
   "metadata": {},
   "source": [
    "# 0. Importing Necessary Packages"
   ]
  },
  {
   "cell_type": "code",
   "execution_count": 208,
   "id": "42dd615d",
   "metadata": {},
   "outputs": [
    {
     "name": "stdout",
     "output_type": "stream",
     "text": [
      "env: PATH=/root/anaconda3/bin:/root/anaconda3/condabin:/usr/local/sbin:/usr/local/bin:/usr/sbin:/usr/local/bin:/usr/sbin:/usr/bin:/sbin:/bin:/root/.fzf./bin\n"
     ]
    }
   ],
   "source": [
    "%set_env PATH=/root/anaconda3/bin:/root/anaconda3/condabin:/usr/local/sbin:/usr/local/bin:/usr/sbin:/usr/local/bin:/usr/sbin:/usr/bin:/sbin:/bin:/root/.fzf./bin\n",
    "# python vscode kernel restart 이후에도 base(python 3.7.6) 정상 작동하는 역할"
   ]
  },
  {
   "cell_type": "code",
   "execution_count": 209,
   "id": "5f1e3103",
   "metadata": {},
   "outputs": [
    {
     "name": "stdout",
     "output_type": "stream",
     "text": [
      "The version_information extension is already loaded. To reload it, use:\n",
      "  %reload_ext version_information\n"
     ]
    }
   ],
   "source": [
    "# Printing the information of Python, IPython, OS, and the generation date.\n",
    "%load_ext version_information\n",
    "%version_information\n",
    "%matplotlib inline"
   ]
  },
  {
   "cell_type": "code",
   "execution_count": 210,
   "id": "2f38fbd1",
   "metadata": {},
   "outputs": [
    {
     "name": "stdout",
     "output_type": "stream",
     "text": [
      "numpy: ver 1.18.1\n",
      "matplotlib: ver 3.1.3\n",
      "astropy: ver 4.0\n",
      "pandas: ver 1.0.1\n"
     ]
    }
   ],
   "source": [
    "# Printing the versions of packages\n",
    "from importlib_metadata import version\n",
    "for pkg in ['numpy', 'matplotlib', 'astropy', 'pandas']:\n",
    "    print(pkg+\": ver \"+version(pkg))"
   ]
  },
  {
   "cell_type": "code",
   "execution_count": 211,
   "id": "07224275",
   "metadata": {},
   "outputs": [],
   "source": [
    "# matplotlib backend\n",
    "%matplotlib notebook\n",
    "\n",
    "# importing necessary modules\n",
    "import numpy as np\n",
    "import glob, os\n",
    "from matplotlib import pyplot as plt\n",
    "from astropy.io import fits\n",
    "import pandas as pd\n",
    "from acstools import acszpt\n",
    "from reproject import reproject_interp"
   ]
  },
  {
   "cell_type": "markdown",
   "id": "30900c5f",
   "metadata": {},
   "source": [
    "# 1. Writing Input Files"
   ]
  },
  {
   "cell_type": "markdown",
   "id": "7d148d2a",
   "metadata": {},
   "source": [
    "## 1) Image list"
   ]
  },
  {
   "cell_type": "code",
   "execution_count": 212,
   "id": "e9a0ed25",
   "metadata": {},
   "outputs": [
    {
     "data": {
      "text/plain": [
       "['../1st_TASK_Relics_SMACS/reduced-img/60mas/hlsp_relics_hst_wfc3ir-60mas_smacs0723-73_f105w_v1_drz.fits',\n",
       " '../1st_TASK_Relics_SMACS/reduced-img/60mas/hlsp_relics_hst_wfc3ir-60mas_smacs0723-73_f160w_v1_drz.fits']"
      ]
     },
     "execution_count": 212,
     "metadata": {},
     "output_type": "execute_result"
    }
   ],
   "source": [
    "dir_img = \"../1st_TASK_Relics_SMACS/reduced-img/60mas/\"\n",
    "band = [\"F105W\", \"F160W\"]\n",
    "imglist_sub = sorted(glob.glob(dir_img+\"*.fits\"))\n",
    "imglist_sub\n",
    "imglist = [imglist_sub[15], imglist_sub[24]]\n",
    "imglist\n",
    " "
   ]
  },
  {
   "cell_type": "code",
   "execution_count": 213,
   "id": "b18218df",
   "metadata": {},
   "outputs": [
    {
     "data": {
      "text/plain": [
       "\" \\nfrom astropy.io import fits\\nfrom astropy.utils.data import get_pkg_data_filename\\nhdu1 = fits.open(get_pkg_data_filename('../img/anal-img/hlsp_relics_hst_wfc3ir-60mas_smacs0723-73_f105w_v1_drz.fits'))# [0] \""
      ]
     },
     "execution_count": 213,
     "metadata": {},
     "output_type": "execute_result"
    }
   ],
   "source": [
    "''' \n",
    "from astropy.io import fits\n",
    "from astropy.utils.data import get_pkg_data_filename\n",
    "hdu1 = fits.open(get_pkg_data_filename('../img/anal-img/hlsp_relics_hst_wfc3ir-60mas_smacs0723-73_f105w_v1_drz.fits'))# [0] ''' \n",
    "# print(hdu1[0], \"\\n\" , hdu1[1], \"\\n\" , hdu1[2], \"\\n\" , hdu1[3], \"\\n\")\n",
    "# imglist = [hdu1[1], hdu1[2]] \n",
    "# hdu1[0].header"
   ]
  },
  {
   "cell_type": "markdown",
   "id": "f952d137",
   "metadata": {},
   "source": [
    "## 2) Configuration file"
   ]
  },
  {
   "cell_type": "code",
   "execution_count": 214,
   "id": "b3bec1ee",
   "metadata": {},
   "outputs": [
    {
     "data": {
      "text/plain": [
       "0"
      ]
     },
     "execution_count": 214,
     "metadata": {},
     "output_type": "execute_result"
    }
   ],
   "source": [
    "config_name = \"config.txt\"\n",
    "os.system(\"sex -dd > \"+config_name)"
   ]
  },
  {
   "cell_type": "markdown",
   "id": "0860b521",
   "metadata": {},
   "source": [
    "## 3) Output parameter file"
   ]
  },
  {
   "cell_type": "code",
   "execution_count": 215,
   "id": "9b8a14a4",
   "metadata": {},
   "outputs": [],
   "source": [
    "param_name = \"output.param\"\n",
    "f = open(param_name, \"w\")\n",
    "f.write(\"X_IMAGE\\n\")    # Object position along x [pixel]\n",
    "f.write(\"Y_IMAGE\\n\")    # Object position along y [pixel]\n",
    "f.write(\"NUMBER\\n\")    # Object number\n",
    "f.write(\"MAG_AUTO\\n\")    # Kron-like elliptical aperture magnitude [mag]\n",
    "f.write(\"MAGERR_AUTO\\n\")    # RMS error for MAG_AUTO    [mag]\n",
    "f.write(\"MAG_ISO\\n\") # Isophotal Magnitude\n",
    "f.write(\"MAGERR_ISO\\n\") # Isophotal Magnitude Error\n",
    "f.write(\"MAG_ISOCOR\\n\")\n",
    "f.write(\"MAGERR_ISOCOR\\n\")\n",
    "f.write(\"KRON_RADIUS\\n\")    # Kron apertures in units of A or B\n",
    "f.write(\"BACKGROUND\\n\")    # Background at centroid position\n",
    "f.write(\"ALPHA_J2000\\n\")    # Right ascension of object center (J2000)\n",
    "f.write(\"DELTA_J2000\\n\")    # Declination of object center (J2000)\n",
    "f.write(\"A_IMAGE\\n\")    # Along major axis\n",
    "f.write(\"B_IMAGE\\n\")    # Along minor axis\n",
    "f.write(\"THETA_IMAGE\\n\")    # Position angle\n",
    "f.write(\"MU_MAX\\n\")    # Peak surface brightness above background\n",
    "f.write(\"FLAGS\\n\")    # Extraction flags\n",
    "f.write(\"FWHM_IMAGE\\n\")    # FWHM assuming a gaussian core\n",
    "f.write(\"FLUX_RADIUS\\n\")    # Half-light radii\n",
    "f.write(\"CLASS_STAR\\n\")    # Star/Galaxy classifier output\n",
    "f.close()"
   ]
  },
  {
   "cell_type": "markdown",
   "id": "cef9426a",
   "metadata": {},
   "source": [
    "## 4) Determining input parameters"
   ]
  },
  {
   "cell_type": "code",
   "execution_count": 216,
   "id": "69a185b2",
   "metadata": {},
   "outputs": [],
   "source": [
    "hdr_1 = fits.getheader(imglist[0])\n",
    "hdr_2 = fits.getheader(imglist[1])"
   ]
  },
  {
   "cell_type": "markdown",
   "id": "ebca49b6",
   "metadata": {},
   "source": [
    "### 4-a) zeropoint calculation from imageheader value"
   ]
  },
  {
   "cell_type": "code",
   "execution_count": 217,
   "id": "62d2c4f4",
   "metadata": {},
   "outputs": [],
   "source": [
    "# band = [\"F105W\", \"F160W\"]\n",
    "cat_name = [\"{}.cat\".format(band[0]), \"{}.cat\".format(band[1])]\n",
    "detect_minarea = 9  # DETECT_MINAREA = 5 (default)\n",
    "detect_thresh = 0.55  #1이었음 # DETECT_THRESH = 1.5 (default)\n",
    "saturated = 100.0  # SATUR_LEVEL = 100.0 (depending on the image!)\n",
    "mag0 = [-2.5*np.log10(hdr_1['PHOTFLAM'])-5.0*np.log10(hdr_1['PHOTPLAM'])-2.408,\n",
    "        -2.5*np.log10(hdr_2['PHOTFLAM'])-5.0*np.log10(hdr_2['PHOTPLAM'])-2.408]\n",
    "# mag0 = [26.268, 25.946]\n",
    "egain = [hdr_1['CCDGAIN']*hdr_1['EXPTIME'], hdr_2['CCDGAIN']*hdr_2['EXPTIME']]\n",
    "# GAIN (effective gain) = gain*exptime (for c/s image) --> this parameter only affects the magnitude error value!\n",
    "pixel_scale = 0.06  # arcsec/pixel\n",
    "fwhm = [0.2, 0.2] #이번에 내가 쓰는 reduce img는 0.06arcsec/pixel   # For HST images, seeing FWHMs are typically 3 pixels (~ 0.09 arcsec).\n",
    "# However, you can directly measure the FWHM value in your image using imexamine or etc.,\n",
    "# because the FWHM value can also vary with image quality.\n",
    "back_size = [64, 64]  # BACK_SIZE = 64 (default) --> 32 (revised)\n",
    "# Smaller BACK_SIZE --> Can subtract more local background --> Can detect more sources\n",
    "back_filtersize = [3, 3]\n",
    "\n",
    "checkimg = [\"{}_aper.fits\".format(band[0]), \"{}_aper.fits\".format(band[1])]  # CHECKIMAGE_NAME (apertures)\n",
    "refimg = imglist[0]\n",
    "\n",
    "\n",
    "deblend_nthresh = [64, 64]\n",
    "debelnd_mincont = [0.0001, 0.0001]\n",
    "\n",
    "backphoto_type = \"LOCAL\"\n",
    "backphoto_thick = 24\n",
    "\n",
    "weight_image = [\"../1st_TASK_Relics_SMACS/reduced-img/60mas/hlsp_relics_hst_wfc3ir-60mas_smacs0723-73_f105w_v1_rms.fits\", \"../1st_TASK_Relics_SMACS/reduced-img/60mas/hlsp_relics_hst_wfc3ir-60mas_smacs0723-73_f160w_v1_rms.fits\"]\n",
    "refimg_rmsmap = weight_image[0]\n",
    "weight_type = \"MAP_RMS\" #MAP_RMS, MAP_WEIGHT\n",
    "weight_gain = \"Y\"\n",
    "\n",
    "filtering = \"Y\"\n",
    "filter_name = \"gauss_1.5_3x3.conv\"\n",
    "# filter_thresh = [0.5, 1.0]"
   ]
  },
  {
   "cell_type": "markdown",
   "id": "ba428bff",
   "metadata": {},
   "source": [
    "### 4-b) PHOTFLAM / PHOTPLAM calculation by ACS zeropoint calculation system"
   ]
  },
  {
   "cell_type": "code",
   "execution_count": 218,
   "id": "18853da6",
   "metadata": {},
   "outputs": [
    {
     "data": {
      "text/plain": [
       "' \\ndates = [\\'2011-07-16\\']\\nqueries1 = []\\nqueries2 = []\\nfor date in dates:\\n    q1 = acszpt.Query(date=date, detector=\\'WFC\\', filt=\\'F606W\\')\\n    zpt_table = q1.fetch()\\n    # Each object has a zpt_table attribute, so we save the instance\\n    queries1.append(q1)\\nfor date in dates:\\n    q2 = acszpt.Query(date=date, detector=\\'WFC\\', filt=\\'F814W\\')\\n    zpt_table = q2.fetch()\\n    # Each object has a zpt_table attribute, so we save the instance\\n    queries2.append(q2)\\n\\n\\nhdr_1[\"PHOTFLAM\"]= q1.zpt_table[\\'PHOTFLAM\\'][0].value\\nhdr_1[\"PHOTPLAM\"]= q1.zpt_table[\\'PHOTPLAM\\'][0].value\\nhdr_2[\"PHOTFLAM\"]= q2.zpt_table[\\'PHOTFLAM\\'][0].value\\nhdr_2[\"PHOTPLAM\"]= q2.zpt_table[\\'PHOTPLAM\\'][0].value\\n\\n\\n'"
      ]
     },
     "execution_count": 218,
     "metadata": {},
     "output_type": "execute_result"
    }
   ],
   "source": [
    "''' \n",
    "dates = ['2011-07-16']\n",
    "queries1 = []\n",
    "queries2 = []\n",
    "for date in dates:\n",
    "    q1 = acszpt.Query(date=date, detector='WFC', filt='F606W')\n",
    "    zpt_table = q1.fetch()\n",
    "    # Each object has a zpt_table attribute, so we save the instance\n",
    "    queries1.append(q1)\n",
    "for date in dates:\n",
    "    q2 = acszpt.Query(date=date, detector='WFC', filt='F814W')\n",
    "    zpt_table = q2.fetch()\n",
    "    # Each object has a zpt_table attribute, so we save the instance\n",
    "    queries2.append(q2)\n",
    "\n",
    "\n",
    "hdr_1[\"PHOTFLAM\"]= q1.zpt_table['PHOTFLAM'][0].value\n",
    "hdr_1[\"PHOTPLAM\"]= q1.zpt_table['PHOTPLAM'][0].value\n",
    "hdr_2[\"PHOTFLAM\"]= q2.zpt_table['PHOTFLAM'][0].value\n",
    "hdr_2[\"PHOTPLAM\"]= q2.zpt_table['PHOTPLAM'][0].value\n",
    "\n",
    "\n",
    "''' "
   ]
  },
  {
   "cell_type": "markdown",
   "id": "003c25ee",
   "metadata": {},
   "source": [
    "## 5) Shell script for SExtractor photometry"
   ]
  },
  {
   "cell_type": "code",
   "execution_count": 219,
   "id": "91a9ff81",
   "metadata": {},
   "outputs": [],
   "source": [
    "scr_name = \"sephot.sh\"\n",
    "f = open(scr_name, \"w\")\n",
    "for i in np.arange(len(band)):\n",
    "    \n",
    "    \n",
    "    \n",
    "    # Reference image \n",
    "    if (imglist[i] == refimg):\n",
    "        txt = \"sex \"+imglist[i]+\" -c config.txt -CATALOG_NAME \"+cat_name[i]+\" -PARAMETERS_NAME output.param \"\n",
    "        txt += f\"-WEIGHT_GAIN {weight_gain:s} -WEIGHT_IMAGE {weight_image[i]:s} -WEIGHT_TYPE {weight_type:s} \"\n",
    "\n",
    "    # Non-reference image\n",
    "    else:\n",
    "        txt = \"sex \"+refimg+\",\"+imglist[i]+\" -c config.txt -CATALOG_NAME \"+cat_name[i]+\" -PARAMETERS_NAME output.param \"\n",
    "        txt += f\"-WEIGHT_GAIN {weight_gain:s} -WEIGHT_IMAGE {refimg_rmsmap:s},{weight_image[i]:s} -WEIGHT_TYPE {weight_type:s} \"\n",
    "\n",
    "    #==== new added param\n",
    "    txt += f\"-BACK_FILTERSIZE {back_filtersize[i]:d} -DEBLEND_NTHRESH {deblend_nthresh[i]:d} -DEBLEND_MINCONT {debelnd_mincont[i]:.5f} -BACKPHOTO_TYPE {backphoto_type:s} -BACKPHOTO_THICK {backphoto_thick:d} \"\n",
    "    txt += f\"-FILTER {filtering:s} -FILTER_NAME {filter_name:s} \" #filtering part 제대로 적용안되는 듯 하면서 여전히 -FILTER_THRESH {filter_thresh[0]:.4f},{filter_thresh[1]:.4f} \"\n",
    "    #==== origin param\n",
    "    txt += f\"-DETECT_MINAREA {detect_minarea:d} -DETECT_THRESH {detect_thresh:.1f} \"\n",
    "    txt += f\"-FILTER_NAME /usr/share/sextractor/default.conv -SATUR_LEVEL {saturated:.1f} \"\n",
    "    txt += f\"-MAG_ZEROPOINT {mag0[i]:.4f} -GAIN {egain[i]:.2f} -PIXEL_SCALE {pixel_scale:.2f} \"\n",
    "    txt += f\"-SEEING_FWHM {fwhm[i]:.2f} -STARNNW_NAME /usr/share/sextractor/default.nnw -BACK_SIZE {back_size[i]:d} \"\n",
    "    txt += \"-CHECKIMAGE_TYPE APERTURES -CHECKIMAGE_NAME \"+checkimg[i] # -CHECKIMAGE_TYPE APERTURES \n",
    "    txt += \"\\n\"\n",
    "    \n",
    "    f.write(txt)\n",
    "    \n",
    "    \n",
    "f.close()"
   ]
  },
  {
   "cell_type": "markdown",
   "id": "39d48f33",
   "metadata": {},
   "source": [
    "# 2. Running SExtractor"
   ]
  },
  {
   "cell_type": "code",
   "execution_count": 220,
   "id": "1e92f526",
   "metadata": {
    "scrolled": true
   },
   "outputs": [
    {
     "data": {
      "text/plain": [
       "0"
      ]
     },
     "execution_count": 220,
     "metadata": {},
     "output_type": "execute_result"
    }
   ],
   "source": [
    "os.system(\"sh sephot.sh\")\n",
    "# Run this and see the terminal where the Jupyter Notebook is open!"
   ]
  },
  {
   "cell_type": "code",
   "execution_count": 221,
   "metadata": {},
   "outputs": [],
   "source": [
    "# !sex ../1st_TASK_Relics_SMACS/reduced-img/60mas/hlsp_relics_hst_wfc3ir-60mas_smacs0723-73_f160w_v1_drz.fits -c config.txt -CATALOG_NAME F160W.cat -PARAMETERS_NAME output.param -WEIGHT_GAIN Y -WEIGHT_IMAGE ../1st_TASK_Relics_SMACS/reduced-img/60mas/hlsp_relics_hst_wfc3ir-60mas_smacs0723-73_f160w_v1_rms.fits -WEIGHT_TYPE MAP_RMS -BACK_FILTERSIZE 3 -DEBLEND_NTHRESH 64 -DEBLEND_MINCONT 0.00010 -BACKPHOTO_TYPE LOCAL -BACKPHOTO_THICK 24 -FILTER Y -FILTER_NAME gauss*.conv -DETECT_MINAREA 9 -DETECT_THRESH 1.0 -FILTER_NAME /usr/share/sextractor/default.conv -SATUR_LEVEL 100.0 -MAG_ZEROPOINT 25.9462 -GAIN 5154.37 -PIXEL_SCALE 0.06 -SEEING_FWHM 0.20 -STARNNW_NAME /usr/share/sextractor/default.nnw -BACK_SIZE 64 -CHECKIMAGE_TYPE APERTURES -CHECKIMAGE_NAME F160W_aper.fits\n",
    "# !sex ../1st_TASK_Relics_SMACS/reduced-img/60mas/hlsp_relics_hst_wfc3ir-60mas_smacs0723-73_f160w_v1_drz.fits,../1st_TASK_Relics_SMACS/reduced-img/60mas/hlsp_relics_hst_wfc3ir-60mas_smacs0723-73_f105w_v1_drz.fits -c config.txt -CATALOG_NAME F105W.cat -PARAMETERS_NAME output.param -WEIGHT_GAIN Y -WEIGHT_IMAGE ../1st_TASK_Relics_SMACS/reduced-img/60mas/hlsp_relics_hst_wfc3ir-60mas_smacs0723-73_f160w_v1_rms.fits,../1st_TASK_Relics_SMACS/reduced-img/60mas/hlsp_relics_hst_wfc3ir-60mas_smacs0723-73_f105w_v1_rms.fits -WEIGHT_TYPE MAP_RMS -BACK_FILTERSIZE 3 -DEBLEND_NTHRESH 64 -DEBLEND_MINCONT 0.00010 -BACKPHOTO_TYPE LOCAL -BACKPHOTO_THICK 24 -FILTER Y -FILTER_NAME gauss*.conv -DETECT_MINAREA 9 -DETECT_THRESH 1.0 -FILTER_NAME /usr/share/sextractor/default.conv -SATUR_LEVEL 100.0 -MAG_ZEROPOINT 26.2688 -GAIN 3779.35 -PIXEL_SCALE 0.06 -SEEING_FWHM 0.20 -STARNNW_NAME /usr/share/sextractor/default.nnw -BACK_SIZE 64 -CHECKIMAGE_TYPE APERTURES -CHECKIMAGE_NAME F105W_aper.fits\n"
   ]
  },
  {
   "cell_type": "markdown",
   "id": "b8ca0aef",
   "metadata": {},
   "source": [
    "# 3. Reading the Data"
   ]
  },
  {
   "cell_type": "code",
   "execution_count": 222,
   "id": "8535fb71",
   "metadata": {},
   "outputs": [],
   "source": [
    "# exec(\"dat_{} = np.genfromtxt(cat_name[0], dtype=None, encoding='ascii', names=colnames)\".format(band[0]))\n",
    "# exec(\"dat_{} = np.genfromtxt(cat_nam\"e[1], dtype=None, encoding='ascii', names=colnames)\".format(band[1]))\n",
    "# Code that makes data name containts wave band\n",
    "colnames = ['x','y','num','mag_auto','magerr_auto','mag_iso','magerr_iso','mag_isocor','magerr_isocor','kron','backgr','ra','dec', \n",
    "            'a','b','theta','mu0','flag','fwhm','flxrad','cl']\n",
    "dat_0 = np.genfromtxt(cat_name[0], dtype=None, encoding='ascii', names=colnames)\n",
    "dat_1 = np.genfromtxt(cat_name[1], dtype=None, encoding='ascii', names=colnames)"
   ]
  },
  {
   "cell_type": "code",
   "execution_count": 223,
   "id": "5d5073d3",
   "metadata": {},
   "outputs": [
    {
     "data": {
      "text/html": [
       "<div>\n",
       "<style scoped>\n",
       "    .dataframe tbody tr th:only-of-type {\n",
       "        vertical-align: middle;\n",
       "    }\n",
       "\n",
       "    .dataframe tbody tr th {\n",
       "        vertical-align: top;\n",
       "    }\n",
       "\n",
       "    .dataframe thead th {\n",
       "        text-align: right;\n",
       "    }\n",
       "</style>\n",
       "<table border=\"1\" class=\"dataframe\">\n",
       "  <thead>\n",
       "    <tr style=\"text-align: right;\">\n",
       "      <th></th>\n",
       "      <th>x</th>\n",
       "      <th>y</th>\n",
       "      <th>num</th>\n",
       "      <th>mag_auto</th>\n",
       "      <th>magerr_auto</th>\n",
       "      <th>mag_iso</th>\n",
       "      <th>magerr_iso</th>\n",
       "      <th>mag_isocor</th>\n",
       "      <th>magerr_isocor</th>\n",
       "      <th>kron</th>\n",
       "      <th>...</th>\n",
       "      <th>ra</th>\n",
       "      <th>dec</th>\n",
       "      <th>a</th>\n",
       "      <th>b</th>\n",
       "      <th>theta</th>\n",
       "      <th>mu0</th>\n",
       "      <th>flag</th>\n",
       "      <th>fwhm</th>\n",
       "      <th>flxrad</th>\n",
       "      <th>cl</th>\n",
       "    </tr>\n",
       "  </thead>\n",
       "  <tbody>\n",
       "    <tr>\n",
       "      <th>0</th>\n",
       "      <td>2279.9648</td>\n",
       "      <td>1100.4969</td>\n",
       "      <td>1</td>\n",
       "      <td>17.5936</td>\n",
       "      <td>0.0096</td>\n",
       "      <td>17.5547</td>\n",
       "      <td>0.0070</td>\n",
       "      <td>17.5514</td>\n",
       "      <td>0.0070</td>\n",
       "      <td>3.50</td>\n",
       "      <td>...</td>\n",
       "      <td>110.846385</td>\n",
       "      <td>-73.477527</td>\n",
       "      <td>5.236</td>\n",
       "      <td>4.891</td>\n",
       "      <td>-38.93</td>\n",
       "      <td>14.4550</td>\n",
       "      <td>6</td>\n",
       "      <td>15.20</td>\n",
       "      <td>2.874</td>\n",
       "      <td>0.973</td>\n",
       "    </tr>\n",
       "    <tr>\n",
       "      <th>1</th>\n",
       "      <td>2229.3779</td>\n",
       "      <td>1142.1075</td>\n",
       "      <td>2</td>\n",
       "      <td>18.9493</td>\n",
       "      <td>0.0052</td>\n",
       "      <td>18.8972</td>\n",
       "      <td>0.0052</td>\n",
       "      <td>18.8914</td>\n",
       "      <td>0.0051</td>\n",
       "      <td>3.50</td>\n",
       "      <td>...</td>\n",
       "      <td>110.849349</td>\n",
       "      <td>-73.476834</td>\n",
       "      <td>4.190</td>\n",
       "      <td>4.084</td>\n",
       "      <td>-81.23</td>\n",
       "      <td>16.0780</td>\n",
       "      <td>2</td>\n",
       "      <td>5.14</td>\n",
       "      <td>2.411</td>\n",
       "      <td>0.977</td>\n",
       "    </tr>\n",
       "    <tr>\n",
       "      <th>2</th>\n",
       "      <td>2641.2532</td>\n",
       "      <td>1449.2960</td>\n",
       "      <td>3</td>\n",
       "      <td>20.4501</td>\n",
       "      <td>0.0056</td>\n",
       "      <td>20.4396</td>\n",
       "      <td>0.0055</td>\n",
       "      <td>20.3876</td>\n",
       "      <td>0.0054</td>\n",
       "      <td>3.52</td>\n",
       "      <td>...</td>\n",
       "      <td>110.825215</td>\n",
       "      <td>-73.471714</td>\n",
       "      <td>10.044</td>\n",
       "      <td>8.545</td>\n",
       "      <td>-68.92</td>\n",
       "      <td>19.0310</td>\n",
       "      <td>2</td>\n",
       "      <td>5.08</td>\n",
       "      <td>8.604</td>\n",
       "      <td>0.029</td>\n",
       "    </tr>\n",
       "    <tr>\n",
       "      <th>3</th>\n",
       "      <td>2282.3169</td>\n",
       "      <td>1111.5690</td>\n",
       "      <td>4</td>\n",
       "      <td>22.5514</td>\n",
       "      <td>0.0318</td>\n",
       "      <td>22.8898</td>\n",
       "      <td>0.0337</td>\n",
       "      <td>22.8832</td>\n",
       "      <td>0.0335</td>\n",
       "      <td>3.55</td>\n",
       "      <td>...</td>\n",
       "      <td>110.846247</td>\n",
       "      <td>-73.477343</td>\n",
       "      <td>2.162</td>\n",
       "      <td>1.085</td>\n",
       "      <td>86.70</td>\n",
       "      <td>19.7265</td>\n",
       "      <td>3</td>\n",
       "      <td>7.82</td>\n",
       "      <td>2.074</td>\n",
       "      <td>0.997</td>\n",
       "    </tr>\n",
       "    <tr>\n",
       "      <th>4</th>\n",
       "      <td>2277.4409</td>\n",
       "      <td>1131.0980</td>\n",
       "      <td>5</td>\n",
       "      <td>24.5617</td>\n",
       "      <td>3.9055</td>\n",
       "      <td>25.7114</td>\n",
       "      <td>0.1899</td>\n",
       "      <td>24.8477</td>\n",
       "      <td>0.1329</td>\n",
       "      <td>8.04</td>\n",
       "      <td>...</td>\n",
       "      <td>110.846533</td>\n",
       "      <td>-73.477017</td>\n",
       "      <td>2.090</td>\n",
       "      <td>1.544</td>\n",
       "      <td>-78.57</td>\n",
       "      <td>23.2512</td>\n",
       "      <td>1</td>\n",
       "      <td>7.90</td>\n",
       "      <td>5.020</td>\n",
       "      <td>0.801</td>\n",
       "    </tr>\n",
       "  </tbody>\n",
       "</table>\n",
       "<p>5 rows × 21 columns</p>\n",
       "</div>"
      ],
      "text/plain": [
       "           x          y  num  mag_auto  magerr_auto  mag_iso  magerr_iso  \\\n",
       "0  2279.9648  1100.4969    1   17.5936       0.0096  17.5547      0.0070   \n",
       "1  2229.3779  1142.1075    2   18.9493       0.0052  18.8972      0.0052   \n",
       "2  2641.2532  1449.2960    3   20.4501       0.0056  20.4396      0.0055   \n",
       "3  2282.3169  1111.5690    4   22.5514       0.0318  22.8898      0.0337   \n",
       "4  2277.4409  1131.0980    5   24.5617       3.9055  25.7114      0.1899   \n",
       "\n",
       "   mag_isocor  magerr_isocor  kron  ...          ra        dec       a      b  \\\n",
       "0     17.5514         0.0070  3.50  ...  110.846385 -73.477527   5.236  4.891   \n",
       "1     18.8914         0.0051  3.50  ...  110.849349 -73.476834   4.190  4.084   \n",
       "2     20.3876         0.0054  3.52  ...  110.825215 -73.471714  10.044  8.545   \n",
       "3     22.8832         0.0335  3.55  ...  110.846247 -73.477343   2.162  1.085   \n",
       "4     24.8477         0.1329  8.04  ...  110.846533 -73.477017   2.090  1.544   \n",
       "\n",
       "   theta      mu0  flag   fwhm  flxrad     cl  \n",
       "0 -38.93  14.4550     6  15.20   2.874  0.973  \n",
       "1 -81.23  16.0780     2   5.14   2.411  0.977  \n",
       "2 -68.92  19.0310     2   5.08   8.604  0.029  \n",
       "3  86.70  19.7265     3   7.82   2.074  0.997  \n",
       "4 -78.57  23.2512     1   7.90   5.020  0.801  \n",
       "\n",
       "[5 rows x 21 columns]"
      ]
     },
     "execution_count": 223,
     "metadata": {},
     "output_type": "execute_result"
    }
   ],
   "source": [
    "pd.DataFrame(dat_0).head(5)"
   ]
  },
  {
   "cell_type": "code",
   "execution_count": 224,
   "id": "cbe74d22",
   "metadata": {},
   "outputs": [
    {
     "data": {
      "text/html": [
       "<div>\n",
       "<style scoped>\n",
       "    .dataframe tbody tr th:only-of-type {\n",
       "        vertical-align: middle;\n",
       "    }\n",
       "\n",
       "    .dataframe tbody tr th {\n",
       "        vertical-align: top;\n",
       "    }\n",
       "\n",
       "    .dataframe thead th {\n",
       "        text-align: right;\n",
       "    }\n",
       "</style>\n",
       "<table border=\"1\" class=\"dataframe\">\n",
       "  <thead>\n",
       "    <tr style=\"text-align: right;\">\n",
       "      <th></th>\n",
       "      <th>x</th>\n",
       "      <th>y</th>\n",
       "      <th>num</th>\n",
       "      <th>mag_auto</th>\n",
       "      <th>magerr_auto</th>\n",
       "      <th>mag_iso</th>\n",
       "      <th>magerr_iso</th>\n",
       "      <th>mag_isocor</th>\n",
       "      <th>magerr_isocor</th>\n",
       "      <th>kron</th>\n",
       "      <th>...</th>\n",
       "      <th>ra</th>\n",
       "      <th>dec</th>\n",
       "      <th>a</th>\n",
       "      <th>b</th>\n",
       "      <th>theta</th>\n",
       "      <th>mu0</th>\n",
       "      <th>flag</th>\n",
       "      <th>fwhm</th>\n",
       "      <th>flxrad</th>\n",
       "      <th>cl</th>\n",
       "    </tr>\n",
       "  </thead>\n",
       "  <tbody>\n",
       "    <tr>\n",
       "      <th>0</th>\n",
       "      <td>2279.9648</td>\n",
       "      <td>1100.4969</td>\n",
       "      <td>1</td>\n",
       "      <td>17.1116</td>\n",
       "      <td>0.0061</td>\n",
       "      <td>16.8147</td>\n",
       "      <td>inf</td>\n",
       "      <td>16.8125</td>\n",
       "      <td>inf</td>\n",
       "      <td>3.50</td>\n",
       "      <td>...</td>\n",
       "      <td>110.846385</td>\n",
       "      <td>-73.477527</td>\n",
       "      <td>5.236</td>\n",
       "      <td>4.891</td>\n",
       "      <td>-38.93</td>\n",
       "      <td>13.7810</td>\n",
       "      <td>7</td>\n",
       "      <td>30.37</td>\n",
       "      <td>2.575</td>\n",
       "      <td>0.981</td>\n",
       "    </tr>\n",
       "    <tr>\n",
       "      <th>1</th>\n",
       "      <td>2229.3779</td>\n",
       "      <td>1142.1075</td>\n",
       "      <td>2</td>\n",
       "      <td>18.9285</td>\n",
       "      <td>0.0452</td>\n",
       "      <td>18.8767</td>\n",
       "      <td>inf</td>\n",
       "      <td>18.8687</td>\n",
       "      <td>inf</td>\n",
       "      <td>3.50</td>\n",
       "      <td>...</td>\n",
       "      <td>110.849349</td>\n",
       "      <td>-73.476834</td>\n",
       "      <td>4.190</td>\n",
       "      <td>4.084</td>\n",
       "      <td>-81.23</td>\n",
       "      <td>15.9878</td>\n",
       "      <td>2</td>\n",
       "      <td>3.85</td>\n",
       "      <td>2.751</td>\n",
       "      <td>0.981</td>\n",
       "    </tr>\n",
       "    <tr>\n",
       "      <th>2</th>\n",
       "      <td>2641.2532</td>\n",
       "      <td>1449.2960</td>\n",
       "      <td>3</td>\n",
       "      <td>19.9185</td>\n",
       "      <td>0.0035</td>\n",
       "      <td>19.9420</td>\n",
       "      <td>0.0035</td>\n",
       "      <td>19.9003</td>\n",
       "      <td>0.0035</td>\n",
       "      <td>3.52</td>\n",
       "      <td>...</td>\n",
       "      <td>110.825215</td>\n",
       "      <td>-73.471714</td>\n",
       "      <td>10.044</td>\n",
       "      <td>8.545</td>\n",
       "      <td>-68.92</td>\n",
       "      <td>18.5495</td>\n",
       "      <td>2</td>\n",
       "      <td>5.53</td>\n",
       "      <td>8.439</td>\n",
       "      <td>0.029</td>\n",
       "    </tr>\n",
       "    <tr>\n",
       "      <th>3</th>\n",
       "      <td>2282.3169</td>\n",
       "      <td>1111.5690</td>\n",
       "      <td>4</td>\n",
       "      <td>22.9239</td>\n",
       "      <td>0.0310</td>\n",
       "      <td>23.2942</td>\n",
       "      <td>inf</td>\n",
       "      <td>23.2799</td>\n",
       "      <td>inf</td>\n",
       "      <td>3.55</td>\n",
       "      <td>...</td>\n",
       "      <td>110.846247</td>\n",
       "      <td>-73.477343</td>\n",
       "      <td>2.162</td>\n",
       "      <td>1.085</td>\n",
       "      <td>86.70</td>\n",
       "      <td>20.1349</td>\n",
       "      <td>3</td>\n",
       "      <td>9.17</td>\n",
       "      <td>2.481</td>\n",
       "      <td>1.000</td>\n",
       "    </tr>\n",
       "    <tr>\n",
       "      <th>4</th>\n",
       "      <td>2277.4409</td>\n",
       "      <td>1131.0980</td>\n",
       "      <td>5</td>\n",
       "      <td>23.3313</td>\n",
       "      <td>0.6779</td>\n",
       "      <td>25.6938</td>\n",
       "      <td>0.1554</td>\n",
       "      <td>23.1896</td>\n",
       "      <td>0.0370</td>\n",
       "      <td>8.04</td>\n",
       "      <td>...</td>\n",
       "      <td>110.846533</td>\n",
       "      <td>-73.477017</td>\n",
       "      <td>2.090</td>\n",
       "      <td>1.544</td>\n",
       "      <td>-78.57</td>\n",
       "      <td>22.9365</td>\n",
       "      <td>1</td>\n",
       "      <td>10.76</td>\n",
       "      <td>7.978</td>\n",
       "      <td>0.638</td>\n",
       "    </tr>\n",
       "  </tbody>\n",
       "</table>\n",
       "<p>5 rows × 21 columns</p>\n",
       "</div>"
      ],
      "text/plain": [
       "           x          y  num  mag_auto  magerr_auto  mag_iso  magerr_iso  \\\n",
       "0  2279.9648  1100.4969    1   17.1116       0.0061  16.8147         inf   \n",
       "1  2229.3779  1142.1075    2   18.9285       0.0452  18.8767         inf   \n",
       "2  2641.2532  1449.2960    3   19.9185       0.0035  19.9420      0.0035   \n",
       "3  2282.3169  1111.5690    4   22.9239       0.0310  23.2942         inf   \n",
       "4  2277.4409  1131.0980    5   23.3313       0.6779  25.6938      0.1554   \n",
       "\n",
       "   mag_isocor  magerr_isocor  kron  ...          ra        dec       a      b  \\\n",
       "0     16.8125            inf  3.50  ...  110.846385 -73.477527   5.236  4.891   \n",
       "1     18.8687            inf  3.50  ...  110.849349 -73.476834   4.190  4.084   \n",
       "2     19.9003         0.0035  3.52  ...  110.825215 -73.471714  10.044  8.545   \n",
       "3     23.2799            inf  3.55  ...  110.846247 -73.477343   2.162  1.085   \n",
       "4     23.1896         0.0370  8.04  ...  110.846533 -73.477017   2.090  1.544   \n",
       "\n",
       "   theta      mu0  flag   fwhm  flxrad     cl  \n",
       "0 -38.93  13.7810     7  30.37   2.575  0.981  \n",
       "1 -81.23  15.9878     2   3.85   2.751  0.981  \n",
       "2 -68.92  18.5495     2   5.53   8.439  0.029  \n",
       "3  86.70  20.1349     3   9.17   2.481  1.000  \n",
       "4 -78.57  22.9365     1  10.76   7.978  0.638  \n",
       "\n",
       "[5 rows x 21 columns]"
      ]
     },
     "execution_count": 224,
     "metadata": {},
     "output_type": "execute_result"
    }
   ],
   "source": [
    "pd.DataFrame(dat_1).head(5)"
   ]
  },
  {
   "cell_type": "markdown",
   "id": "6c92f2ec",
   "metadata": {},
   "source": [
    "# 4. Galactic Extinction in Magnitude\n",
    "## Magnitude Correction"
   ]
  },
  {
   "cell_type": "code",
   "execution_count": 225,
   "id": "4d7371f3",
   "metadata": {},
   "outputs": [],
   "source": [
    "A_lambda_f105w = 1.015\n",
    "A_lambda_f160w = 0.470 \n",
    "EBV = 0.1893\n",
    "Extmag_f105w = A_lambda_f105w * EBV\n",
    "Extmag_f160w = A_lambda_f160w * EBV\n",
    "dat_0['mag_isocor'] = dat_0['mag_isocor'] - Extmag_f105w #dat_0 : f105w\n",
    "dat_1['mag_isocor'] = dat_1['mag_isocor'] - Extmag_f160w #dat_1 : f160w"
   ]
  },
  {
   "cell_type": "markdown",
   "id": "2f3a815b",
   "metadata": {},
   "source": [
    "# 5. Plotting the Figures"
   ]
  },
  {
   "cell_type": "code",
   "execution_count": 226,
   "id": "032974ba",
   "metadata": {},
   "outputs": [],
   "source": [
    "%matplotlib inline"
   ]
  },
  {
   "cell_type": "markdown",
   "id": "331009ea",
   "metadata": {},
   "source": [
    "### 0) RA/DEC"
   ]
  },
  {
   "cell_type": "code",
   "execution_count": 227,
   "id": "99c2c645",
   "metadata": {},
   "outputs": [
    {
     "data": {
      "image/png": "[encoded data removed]",
      "text/plain": [
       "<Figure size 360x360 with 1 Axes>"
      ]
     },
     "metadata": {
      "needs_background": "light"
     },
     "output_type": "display_data"
    }
   ],
   "source": [
    "fig, axs = plt.subplots(1, 1, figsize=(5,5))\n",
    "axs.plot(dat_0['ra'], dat_0['dec'], 'o', ms=0.5, label = 'SEx')\n",
    "axs.set_xlabel(\"ra\")\n",
    "axs.set_ylabel(\"Dec\")\n",
    "# change legend markersize\n",
    "lgnd = axs.legend()\n",
    "lgnd.legendHandles[0]._legmarker.set_markersize(6)\n"
   ]
  },
  {
   "cell_type": "markdown",
   "id": "e1dac46f",
   "metadata": {},
   "source": [
    "### 1) Mag-MagErr Plot"
   ]
  },
  {
   "cell_type": "code",
   "execution_count": 228,
   "id": "df8b687d",
   "metadata": {},
   "outputs": [
    {
     "data": {
      "image/png": "[encoded data removed]",
      "text/plain": [
       "<Figure size 864x288 with 2 Axes>"
      ]
     },
     "metadata": {
      "needs_background": "light"
     },
     "output_type": "display_data"
    }
   ],
   "source": [
    "fig, ax = plt.subplots(1, 2, figsize=(12,4))\n",
    "mag_range = (dat_0['mag_isocor'] < 99.0)&(dat_1['mag_isocor']<99.0)\n",
    "# magnitude of 99.0 means the source not detected in the 606-band image but detected in the 814-band image.\n",
    "ax[0].plot(dat_0['mag_isocor'][mag_range], dat_0['magerr_isocor'][mag_range], 'o', ms=0.1, label='SEx')\n",
    "ax[0].set_xlim([12.5, 32])\n",
    "ax[0].set_ylim([0.0, 1.0])\n",
    "ax[0].set_xlabel('F105W mag')\n",
    "ax[0].set_ylabel('F105W magerr')\n",
    "\n",
    "\n",
    "ax[1].plot(dat_1['mag_isocor'][mag_range], dat_1['magerr_isocor'][mag_range], 'o', ms=0.1, label='SEX')\n",
    "ax[1].set_xlim([12.5, 32])\n",
    "ax[1].set_ylim([0, 1])\n",
    "ax[1].set_xlabel('F160W mag')\n",
    "ax[1].set_ylabel('F160W magerr')\n",
    "\n",
    "#=================================================================\n",
    "lgnd0 = ax[0].legend()\n",
    "lgnd0.legendHandles[0]._legmarker.set_markersize(6)\n",
    "lgnd1 = ax[1].legend()\n",
    "lgnd1.legendHandles[0]._legmarker.set_markersize(6)"
   ]
  },
  {
   "cell_type": "markdown",
   "id": "ba9a86e1",
   "metadata": {},
   "source": [
    "### 2) Magnitude - stellarity (``CLASS_STAR``) digram"
   ]
  },
  {
   "cell_type": "code",
   "execution_count": 229,
   "id": "231272d0",
   "metadata": {},
   "outputs": [
    {
     "data": {
      "image/png": "[encoded data removed]",
      "text/plain": [
       "<Figure size 720x432 with 2 Axes>"
      ]
     },
     "metadata": {
      "needs_background": "light"
     },
     "output_type": "display_data"
    }
   ],
   "source": [
    "fig, ax = plt.subplots(1, 2, figsize=(10,6))\n",
    "mag_range = (dat_0['mag_isocor'] < 99.0)&(dat_1['mag_isocor']<99.0)\n",
    "# magnitude of 99.0 means the source not detected in the 606-band image but detected in the 814-band image.\n",
    "ax[0].plot(dat_0['mag_isocor'][mag_range], dat_0['cl'][mag_range], 'o', ms=1, label='SEx')\n",
    "ax[0].set_xlim([12.5, 32])\n",
    "ax[0].set_ylim([0.0, 1.0])\n",
    "ax[0].set_xlabel('F105W mag')\n",
    "ax[0].set_ylabel('Stellarity')\n",
    "ax[0].axhline(0.4, 0, 1, color='red', ls='--', lw=1)\n",
    "ax[0].axhline(0.8, 0, 1, color='red', ls='--', lw=1)\n",
    "\n",
    "\n",
    "ax[1].plot(dat_1['mag_isocor'][mag_range], dat_1['cl'][mag_range], 'o', ms=1, label='SEX')\n",
    "ax[1].set_xlim([12.5, 32])\n",
    "ax[1].set_ylim([0, 1])\n",
    "ax[1].set_xlabel('F160W mag')\n",
    "ax[1].set_ylabel('Stellarity')\n",
    "ax[1].axhline(0.4, 0, 1, color='red', ls='--', lw=1)\n",
    "ax[1].axhline(0.8, 0, 1, color='red', ls='--', lw=1)\n",
    "\n",
    "#=================================================================\n",
    "lgnd0 = ax[0].legend()\n",
    "lgnd0.legendHandles[0]._legmarker.set_markersize(6)\n",
    "lgnd1 = ax[1].legend()\n",
    "lgnd1.legendHandles[0]._legmarker.set_markersize(6)"
   ]
  },
  {
   "cell_type": "markdown",
   "id": "e8dbe140",
   "metadata": {},
   "source": [
    "### 3) CMDs of galaxies"
   ]
  },
  {
   "cell_type": "code",
   "execution_count": 230,
   "id": "b6619f71",
   "metadata": {},
   "outputs": [
    {
     "data": {
      "image/png": "[encoded data removed]",
      "text/plain": [
       "<Figure size 720x432 with 1 Axes>"
      ]
     },
     "metadata": {
      "needs_background": "light"
     },
     "output_type": "display_data"
    }
   ],
   "source": [
    "# gal_cnd = ((dat_V['mag_isocor'] < 30.0) & (dat_V['magerr_isocor'] < 1) & (dat_I['mag_isocor'] < 30.0) & (dat_I['magerr_isocor'] < 1) & \\\n",
    "#           (dat_V['flxrad'] > 4.) & (dat_V['fwhm'] > 4.) & (dat_I['flxrad'] > 4.) & (dat_I['fwhm'] > 4.) & \\\n",
    "#           (dat_V['mag_isocor']-dat_I['mag_isocor'] > -5.0) & (dat_V['mag_isocor']-dat_I['mag_isocor'] < 5.0) & \\\n",
    "#           (dat_I['cl'] < 0.4)) \n",
    "\n",
    "fig, ax = plt.subplots(1, 1, figsize=(10,6))\n",
    "galcnd = (dat_0['mag_isocor'] < 99.0)&(dat_1['mag_isocor']<99.0)&(dat_0['flag']<4) #&(dat_0['flxrad'] > 4.) & (dat_0['fwhm'] > 4.) & (dat_1['fwhm'] > 4.) & (dat_1['merr'] < 0.5) & (dat_0['merr'] < 0.5)&(dat_1['cl'] < 0.4)\n",
    "\n",
    "\n",
    "# magnitude of 99.0 means the source not detected in the 606-band image but detected in the 814-band image.\n",
    "ax.plot(dat_0['mag_isocor'][galcnd]-dat_1['mag_isocor'][galcnd], dat_1['mag_isocor'][galcnd], 'o', ms=0.5, label='SEx')\n",
    "ax.set_xlim([-3, 3])\n",
    "ax.set_ylim([30, 15])\n",
    "ax.set_xlabel('F105W-F160W mag')\n",
    "ax.set_ylabel('F160W mag')\n",
    "\n",
    "#=================================================================\n",
    "lgnd0 = ax.legend()\n",
    "lgnd0.legendHandles[0]._legmarker.set_markersize(6)\n"
   ]
  },
  {
   "cell_type": "code",
   "execution_count": null,
   "id": "2e6ade4d",
   "metadata": {},
   "outputs": [],
   "source": []
  }
 ],
 "metadata": {
  "kernelspec": {
   "display_name": "Python 3",
   "language": "python",
   "name": "python3"
  },
  "language_info": {
   "codemirror_mode": {
    "name": "ipython",
    "version": 3
   },
   "file_extension": ".py",
   "mimetype": "text/x-python",
   "name": "python",
   "nbconvert_exporter": "python",
   "pygments_lexer": "ipython3",
   "version": "3.7.6"
  },
  "vscode": {
   "interpreter": {
    "hash": "0fb62dfd04505207a6fb7bb0a105535d59e6a198bd3500f7e867c4d22a5a881c"
   }
  }
 },
 "nbformat": 4,
 "nbformat_minor": 5
}
